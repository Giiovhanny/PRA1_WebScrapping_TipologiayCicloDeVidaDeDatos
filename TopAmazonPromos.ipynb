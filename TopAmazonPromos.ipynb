{
 "metadata": {
  "language_info": {
   "codemirror_mode": {
    "name": "ipython",
    "version": 3
   },
   "file_extension": ".py",
   "mimetype": "text/x-python",
   "name": "python",
   "nbconvert_exporter": "python",
   "pygments_lexer": "ipython3",
   "version": "3.9.4-final"
  },
  "orig_nbformat": 2,
  "kernelspec": {
   "name": "python394jvsc74a57bd06097b842ea50001c3bff7ee79878899cb75817ad0771f8215d32734ca32d1c05",
   "display_name": "Python 3.9.4 64-bit"
  },
  "metadata": {
   "interpreter": {
    "hash": "6097b842ea50001c3bff7ee79878899cb75817ad0771f8215d32734ca32d1c05"
   }
  }
 },
 "nbformat": 4,
 "nbformat_minor": 2,
 "cells": [
  {
   "source": [
    "Primero se cargan las librerías que se van a usar"
   ],
   "cell_type": "markdown",
   "metadata": {}
  },
  {
   "cell_type": "code",
   "execution_count": 47,
   "metadata": {},
   "outputs": [],
   "source": [
    "from requests_html import HTMLSession\n",
    "from bs4 import BeautifulSoup\n",
    "import pandas as pd\n",
    "import datetime\n",
    "import whois\n",
    "import builtwith\n",
    "import argparse\n",
    "import requests\n",
    "import re"
   ]
  },
  {
   "source": [
    "Ahora se define la función para obtener el robots.txt"
   ],
   "cell_type": "markdown",
   "metadata": {}
  },
  {
   "cell_type": "code",
   "execution_count": 48,
   "metadata": {},
   "outputs": [],
   "source": [
    "def obt_robot(siteurl):\n",
    "    if siteurl.endswith('/'):\n",
    "        path=siteurl\n",
    "    else:\n",
    "        path=siteurl+'/'\n",
    "    req=requests.get(path+'robots.txt',data=None)\n",
    "    return req.text"
   ]
  },
  {
   "source": [
    "Ahora vamos a guardar el sitio web de amazon para posteriormente obtener los datos del robtos.txt"
   ],
   "cell_type": "markdown",
   "metadata": {}
  },
  {
   "cell_type": "code",
   "execution_count": 49,
   "metadata": {},
   "outputs": [],
   "source": [
    "web = obt_robot('https://www.amazon.com/')"
   ]
  },
  {
   "source": [
    "Obtenemos ahora el robots.txt e imprimimos el resultado"
   ],
   "cell_type": "markdown",
   "metadata": {}
  },
  {
   "cell_type": "code",
   "execution_count": 50,
   "metadata": {},
   "outputs": [
    {
     "output_type": "stream",
     "name": "stdout",
     "text": [
      "User-agent: *\nDisallow: /exec/obidos/account-access-login\nDisallow: /exec/obidos/change-style\nDisallow: /exec/obidos/flex-sign-in\nDisallow: /exec/obidos/handle-buy-box\nDisallow: /exec/obidos/tg/cm/member/\nDisallow: /gp/aw/help/id=sss\nDisallow: /gp/cart\nDisallow: /gp/flex\nDisallow: /gp/product/e-mail-friend\nDisallow: /gp/product/product-availability\nDisallow: /gp/product/rate-this-item\nDisallow: /gp/sign-in\nDisallow: /gp/reader\nDisallow: /gp/sitbv3/reader\nDisallow: /gp/richpub/syltguides/create\nDisallow: /gp/gfix\nDisallow: /gp/associations/wizard.html\nDisallow: /gp/dmusic/order\nDisallow: /gp/legacy-handle-buy-box.html\nDisallow: /gp/aws/ssop\nDisallow: /gp/yourstore\nDisallow: /gp/gift-central/organizer/add-wishlist\nDisallow: /gp/vote\nDisallow: /gp/voting/\nDisallow: /gp/music/wma-pop-up\nDisallow: /gp/customer-images\nDisallow: /gp/richpub/listmania/createpipeline\nDisallow: /gp/content-form\nDisallow: /gp/pdp/invitation/invite\nDisallow: /gp/customer-reviews/common/du\nDisallow: /gp/customer-reviews/write-a-review.html\nDisallow: /gp/associations/wizard.html\nDisallow: /gp/music/clipserve\nDisallow: /gp/customer-media/upload\nDisallow: /gp/history\nDisallow: /gp/item-dispatch\nDisallow: /gp/dmusic/order/handle-buy-box.html\nDisallow: /gp/recsradio\nDisallow: /gp/slredirect\nDisallow: /dp/shipping/\nDisallow: /dp/twister-update/\nDisallow: /dp/manual-submit/\nDisallow: /dp/e-mail-friend/\nDisallow: /dp/product-availability/\nDisallow: /dp/rate-this-item/\nDisallow: /gp/registry/wishlist/*/reserve\nDisallow: /gp/structured-ratings/actions/get-experience.html\nDisallow: /gp/twitter/\nDisallow: /ap/signin\nDisallow: /gp/registry/wishlist/\nDisallow: /wishlist/\nAllow: /wishlist/universal*\nAllow: /wishlist/vendor-button*\nAllow: /wishlist/get-button*\nDisallow: /gp/wishlist/\nAllow: /gp/wishlist/universal*\nAllow: /gp/wishlist/vendor-button*\nAllow: /gp/wishlist/ipad-install*\nDisallow: /registry/wishlist/\nDisallow: /review/common/du\nDisallow: /gp/registry/search.html\nDisallow: /product-reviews/B0069IY63Y\nDisallow: /gp/orc/rml/\nDisallow: */gcrnsts\nDisallow: /gp/gc/widget\nDisallow: /gp/dmusic/mp3/player\nDisallow: /gp/entity-alert/external\nDisallow: /gp/customer-reviews/dynamic/sims-box\nDisallow: /review/dynamic/sims-box\nDisallow: /gp/redirect.html\nDisallow: /gp/twister/ajaxv2\nDisallow: /ss/twister/ajax\nDisallow: /b?*node=7454917011\nDisallow: /b?*node=7454927011\nDisallow: /b?*node=7454939011\nDisallow: /b?*node=7454898011\nDisallow: /gp/customer-media/actions/delete/\nDisallow: /gp/customer-media/actions/edit-caption/\nDisallow: /gp/dmusic/\nAllow: /gp/dmusic/promotions/PrimeMusic\nAllow: /gp/dmusic/promotions/AmazonMusicUnlimited\nDisallow: /gp/offer-listing/\nDisallow: /b?*node=9052533011\nDisallow: /lm/R1XIHQVKXSKBNJ\nDisallow: /lm/R3HQ5WJSZK6QSO\nDisallow: /surprise/\nDisallow: /local/ajax/\nDisallow: */B00M3E1NYI\nDisallow: */B00M3E1Q5Y\nDisallow: */B00M3E1TOM\nDisallow: */B00M3E1WYO\nDisallow: */B00M3E204K\nDisallow: */B00M3E236A\nDisallow: */B00M3E260I\nDisallow: */B00M3E28WO\nDisallow: */B00M3E2BC6\nDisallow: */B00M3E2DPQ\nDisallow: */B00M3E2GU8\nDisallow: */B00M3E2J14\nDisallow: */B00M3E2LOE\nDisallow: */B00M3E1HJY\nDisallow: /gp/socialmedia/giveaways\nDisallow: /gp/b2b-rd\nDisallow: /gp/aw/so.html\nDisallow: /gp/rentallist\nDisallow: /gp/video/dvd-rental/settings\nDisallow: /gp/rl/settings\nDisallow: /gp/video/settings\nDisallow: /gp/video/library\nDisallow: /gp/video/watchlist\nDisallow: /reviews/iframe\nDisallow: /gp/switch-language\nDisallow: /ga/p/\nDisallow: /gp/profile/\nDisallow: /giveaway/host/setup/\nDisallow: /ss/customer-reviews/lighthouse/\nDisallow: /ospublishing/story/*\nDisallow: /gp/aw/ol/\nDisallow: /gp/promotion/\nDisallow: /hz/leaderboard/top-reviewers/\nDisallow: /creatorhub\nDisallow: /creatorhub/*\nDisallow: /slp/s$\nDisallow: /-/\nAllow: /-/es/\nDisallow: /hz/help/contact/*/message/$\nDisallow: /gp/aw/shoppingAids/\nDisallow: /rss/people/*/reviews\nDisallow: /gp/pdp/rss/*/reviews\nDisallow: /gp/cdp/member-reviews/\nDisallow: /gp/aw/cr/\nDisallow: */sim/B001132UEE\nAllow: /gp/offer-listing/B000\nAllow: /gp/offer-listing/9000\nDisallow: /gp/aag\nAllow: /gp/aag/main?*seller=ABVFEJU8LS620\nDisallow: /gp/pdp/profile/\nDisallow: /gp/help/customer/express/c2c/\nDisallow: /slp/*/b$\nDisallow: /hz/contact-us/ajax/initiate-trusted-contact/\n\nUser-agent: EtaoSpider\nDisallow: /\n"
     ]
    }
   ],
   "source": [
    "data_robots = re.sub( r'<[^>]*>', ' ', web).strip()\n",
    "print(data_robots)"
   ]
  },
  {
   "source": [
    "Como se aprecia en el archivo robots.txt, este nos muestra los apartados dentro del sito web para los cuales no deberíamos acceder con nuestro proceso de extracción de datos y que se respetarán a lo largo del proyecto"
   ],
   "cell_type": "markdown",
   "metadata": {}
  },
  {
   "source": [
    "Ahora se va a identificar las tecnologías presentes detras del sitio web de Amazon"
   ],
   "cell_type": "markdown",
   "metadata": {}
  },
  {
   "cell_type": "code",
   "execution_count": 51,
   "metadata": {},
   "outputs": [
    {
     "output_type": "stream",
     "name": "stdout",
     "text": [
      "{'javascript-frameworks': ['Prototype', 'jQuery']}\n"
     ]
    }
   ],
   "source": [
    "tech_used = builtwith.parse('https://www.amazon.com/')\n",
    "print(tech_used)"
   ]
  },
  {
   "source": [
    "Luego se van a buscar mas datos sobre el sitio web"
   ],
   "cell_type": "markdown",
   "metadata": {}
  },
  {
   "cell_type": "code",
   "execution_count": 52,
   "metadata": {},
   "outputs": [
    {
     "output_type": "stream",
     "name": "stdout",
     "text": [
      "{\n  \"domain_name\": [\n    \"AMAZON.COM\",\n    \"amazon.com\"\n  ],\n  \"registrar\": \"MarkMonitor, Inc.\",\n  \"whois_server\": \"whois.markmonitor.com\",\n  \"referral_url\": null,\n  \"updated_date\": [\n    \"2019-05-07 20:09:37\",\n    \"2019-08-26 12:19:56\"\n  ],\n  \"creation_date\": [\n    \"1994-11-01 05:00:00\",\n    \"1994-10-31 21:00:00\"\n  ],\n  \"expiration_date\": [\n    \"2024-10-31 04:00:00\",\n    \"2024-10-30 00:00:00\"\n  ],\n  \"name_servers\": [\n    \"NS1.P31.DYNECT.NET\",\n    \"NS2.P31.DYNECT.NET\",\n    \"NS3.P31.DYNECT.NET\",\n    \"NS4.P31.DYNECT.NET\",\n    \"PDNS1.ULTRADNS.NET\",\n    \"PDNS6.ULTRADNS.CO.UK\",\n    \"pdns6.ultradns.co.uk\",\n    \"ns3.p31.dynect.net\",\n    \"ns4.p31.dynect.net\",\n    \"ns2.p31.dynect.net\",\n    \"ns1.p31.dynect.net\",\n    \"pdns1.ultradns.net\"\n  ],\n  \"status\": [\n    \"clientDeleteProhibited https://icann.org/epp#clientDeleteProhibited\",\n    \"clientTransferProhibited https://icann.org/epp#clientTransferProhibited\",\n    \"clientUpdateProhibited https://icann.org/epp#clientUpdateProhibited\",\n    \"serverDeleteProhibited https://icann.org/epp#serverDeleteProhibited\",\n    \"serverTransferProhibited https://icann.org/epp#serverTransferProhibited\",\n    \"serverUpdateProhibited https://icann.org/epp#serverUpdateProhibited\",\n    \"clientUpdateProhibited (https://www.icann.org/epp#clientUpdateProhibited)\",\n    \"clientTransferProhibited (https://www.icann.org/epp#clientTransferProhibited)\",\n    \"clientDeleteProhibited (https://www.icann.org/epp#clientDeleteProhibited)\",\n    \"serverUpdateProhibited (https://www.icann.org/epp#serverUpdateProhibited)\",\n    \"serverTransferProhibited (https://www.icann.org/epp#serverTransferProhibited)\",\n    \"serverDeleteProhibited (https://www.icann.org/epp#serverDeleteProhibited)\"\n  ],\n  \"emails\": [\n    \"abusecomplaints@markmonitor.com\",\n    \"hostmaster@amazon.com\",\n    \"whoisrequest@markmonitor.com\"\n  ],\n  \"dnssec\": \"unsigned\",\n  \"name\": \"Hostmaster, Amazon Legal Dept.\",\n  \"org\": \"Amazon Technologies, Inc.\",\n  \"address\": \"P.O. Box 8102\",\n  \"city\": \"Reno\",\n  \"state\": \"NV\",\n  \"zipcode\": \"89507\",\n  \"country\": \"US\"\n}\n"
     ]
    }
   ],
   "source": [
    "w = whois.whois('amazon.com/')\n",
    "print(w)"
   ]
  },
  {
   "source": [
    "Para realizar la busqueda de datos, primero usamos la librería HTMLSessions para transformar la estructuta de los datos y creamos una lista vacía para que posteriomente se puedan agregar las variables capturadas "
   ],
   "cell_type": "markdown",
   "metadata": {}
  },
  {
   "cell_type": "code",
   "execution_count": 58,
   "metadata": {},
   "outputs": [],
   "source": [
    "lista_de_descuentos = []\n",
    "x = AsyncHTMLSession()"
   ]
  },
  {
   "source": [
    "Ahora se va a empezar a trabajar en función de realizar la extracción de datos del sitio web. Para este proyecto vamos a realizar las busqueda de promociones para una marca de computadores, sin embargo,  si es necesario se puede cambiar el item de busqueda."
   ],
   "cell_type": "markdown",
   "metadata": {}
  },
  {
   "source": [
    "buscar = 'asus+zenbook'\n",
    "url = f'https://www.amazon.com/s?k={buscar}'"
   ],
   "cell_type": "code",
   "metadata": {},
   "execution_count": 59,
   "outputs": []
  },
  {
   "source": [
    "Con la primera función que se va a crear se podrán acceder a la data del sitio web. Luego usamos sleep para evitar el bloqueo del servidor y posteriormente se le hace parseo al sitio por medio de la librería BeatifulSoup"
   ],
   "cell_type": "markdown",
   "metadata": {}
  },
  {
   "cell_type": "code",
   "execution_count": 60,
   "metadata": {},
   "outputs": [],
   "source": [
    "def datos(url):\n",
    "    y = x.get(url)\n",
    "    y.html.render(sleep=1)\n",
    "    soup = BeautifulSoup(y.html.html, 'html.parser')\n",
    "    return soup"
   ]
  },
  {
   "source": [
    "El siguiente paso consiste en crear la función que nos arroje la lista de los datos especificos que queremos del producto(título, título abreviado, link, precio actual en el caso si es que tiene descuento, precio sin descuento, críticas, calificación, si es un producto promocionado por amazon a través de amazon choice y la fecha de extracción de los datos)"
   ],
   "cell_type": "markdown",
   "metadata": {}
  },
  {
   "cell_type": "code",
   "execution_count": 61,
   "metadata": {},
   "outputs": [],
   "source": [
    "def descuentos(soup):\n",
    "# Se crea productos para almacenar allí la data temporal para el bucle\n",
    "    productos = soup.find_all('div', {'data-component-type':'s-search-result'})\n",
    "    amazonChoice=False\n",
    "    for item in productos:\n",
    "        # Busqueda del nombre completo del producto\n",
    "        titulo = item.find('a', {'class': 'a-link-normal a-text-normal'}).text.replace(',',' ').strip()\n",
    "                # Ahora buscamos la etiqueta de amazon choice (Amazon's) para marcar los articulos que la tengan. \n",
    "        try:\n",
    "            if(item.find('span', {'class': 'a-badge-text', 'data-a-badge-color':'sx-cloud'}).text.replace(',',' ').strip() == \"Amazon's\"):\n",
    "                 amazonChoice=True\n",
    "            else:\n",
    "                amazonChoice=False\n",
    "        except:\n",
    "            amazonChoise= False\n",
    "        # Abreviación del título para mejorar comprensión\n",
    "        titulo_abreviado = item.find('a', {'class': 'a-link-normal a-text-normal'}).text.replace(',',' ').strip()[:20]\n",
    "        # Busqueda del link del producto\n",
    "        link = item.find('a', {'class': 'a-link-normal a-text-normal'})['href']\n",
    "        # Se crea primero una lista llamada lista_spam para verificar si el producto tiene o no descuento\n",
    "        lista_span = item.find_all('span', {'class': 'a-offscreen'})\n",
    "        precio_actual, precio_sin_descuento = 0, 0\n",
    "        if not lista_span:\n",
    "            print(titulo, \"No matches\")\n",
    "        else:\n",
    "            try:\n",
    "                precio_actual = float(lista_span[0].text.replace('$','').replace(',','').strip())\n",
    "                precio_sin_descuento = float(lista_span[1].text.replace('$','').replace(',','').strip())\n",
    "            except:\n",
    "                precio_sin_descuento = float(lista_span[0].text.replace('$','').replace(',','').strip())\n",
    "        # Busqueda de Críticas del producto\n",
    "        try:\n",
    "            #criticas = item.find('span', {'class': \"a-size-base\"}, partial=False).text.strip()\n",
    "            criticas = float(item.find(lambda tag: tag.name == 'span' and tag.get('class') == ['a-size-base']).text.strip())\n",
    "        except:\n",
    "            criticas = 0\n",
    "        # Busqueda de la calificación en estrellas del producto\n",
    "        try:\n",
    "            calificacion = float(item.find('span', {'class': 'a-declarative'}).text.replace(' out of 5 stars','').strip())\n",
    "        except:\n",
    "            calificacion = 0\n",
    "        # Fecha en la cuál fue extraída la información\n",
    "        date = datetime.datetime.now()\n",
    "        # Creación de la lista con las varibales obtenidas para cada producto\n",
    "        articulo_en_venta= {\n",
    "            'titulo': titulo,\n",
    "            'titulo_abreviado': titulo_abreviado,\n",
    "            'link': link,\n",
    "            'precio_actual': precio_actual,\n",
    "            'precio_sin_descuento': precio_sin_descuento,\n",
    "            'criticas': criticas,\n",
    "            'calificacion': calificacion,  \n",
    "            'AmazonChoice': amazonChoice,\n",
    "            'Date':  str(date.day)+'/'+str(date.month)+'/'+str(date.year)    \n",
    "            }\n",
    "        lista_de_descuentos.append(articulo_en_venta)\n",
    "    return\n"
   ]
  },
  {
   "source": [
    "Posteriormente se crea la función para realizar el salto de página dentro del sitio web de amazon"
   ],
   "cell_type": "markdown",
   "metadata": {}
  },
  {
   "cell_type": "code",
   "execution_count": 62,
   "metadata": {},
   "outputs": [
    {
     "output_type": "error",
     "ename": "AttributeError",
     "evalue": "'_asyncio.Future' object has no attribute 'html'",
     "traceback": [
      "\u001b[1;31m---------------------------------------------------------------------------\u001b[0m",
      "\u001b[1;31mAttributeError\u001b[0m                            Traceback (most recent call last)",
      "\u001b[1;32m<ipython-input-62-f8e73cb23ca9>\u001b[0m in \u001b[0;36m<module>\u001b[1;34m\u001b[0m\n\u001b[0;32m     10\u001b[0m \u001b[0mi\u001b[0m\u001b[1;33m=\u001b[0m\u001b[1;36m0\u001b[0m\u001b[1;33m\u001b[0m\u001b[1;33m\u001b[0m\u001b[0m\n\u001b[0;32m     11\u001b[0m \u001b[1;32mwhile\u001b[0m \u001b[0mi\u001b[0m\u001b[1;33m<\u001b[0m\u001b[1;36m20\u001b[0m\u001b[1;33m:\u001b[0m\u001b[1;33m\u001b[0m\u001b[1;33m\u001b[0m\u001b[0m\n\u001b[1;32m---> 12\u001b[1;33m     \u001b[0msoup\u001b[0m \u001b[1;33m=\u001b[0m \u001b[0mdatos\u001b[0m\u001b[1;33m(\u001b[0m\u001b[0murl\u001b[0m\u001b[1;33m)\u001b[0m\u001b[1;33m\u001b[0m\u001b[1;33m\u001b[0m\u001b[0m\n\u001b[0m\u001b[0;32m     13\u001b[0m     \u001b[0mdescuentos\u001b[0m\u001b[1;33m(\u001b[0m\u001b[0msoup\u001b[0m\u001b[1;33m)\u001b[0m\u001b[1;33m\u001b[0m\u001b[1;33m\u001b[0m\u001b[0m\n\u001b[0;32m     14\u001b[0m     \u001b[0murl\u001b[0m \u001b[1;33m=\u001b[0m \u001b[0msiguiente_pagina\u001b[0m\u001b[1;33m(\u001b[0m\u001b[0msoup\u001b[0m\u001b[1;33m)\u001b[0m\u001b[1;33m\u001b[0m\u001b[1;33m\u001b[0m\u001b[0m\n",
      "\u001b[1;32m<ipython-input-60-c2a4265e93cd>\u001b[0m in \u001b[0;36mdatos\u001b[1;34m(url)\u001b[0m\n\u001b[0;32m      1\u001b[0m \u001b[1;32mdef\u001b[0m \u001b[0mdatos\u001b[0m\u001b[1;33m(\u001b[0m\u001b[0murl\u001b[0m\u001b[1;33m)\u001b[0m\u001b[1;33m:\u001b[0m\u001b[1;33m\u001b[0m\u001b[1;33m\u001b[0m\u001b[0m\n\u001b[0;32m      2\u001b[0m     \u001b[0my\u001b[0m \u001b[1;33m=\u001b[0m \u001b[0mx\u001b[0m\u001b[1;33m.\u001b[0m\u001b[0mget\u001b[0m\u001b[1;33m(\u001b[0m\u001b[0murl\u001b[0m\u001b[1;33m)\u001b[0m\u001b[1;33m\u001b[0m\u001b[1;33m\u001b[0m\u001b[0m\n\u001b[1;32m----> 3\u001b[1;33m     \u001b[0my\u001b[0m\u001b[1;33m.\u001b[0m\u001b[0mhtml\u001b[0m\u001b[1;33m.\u001b[0m\u001b[0mrender\u001b[0m\u001b[1;33m(\u001b[0m\u001b[0msleep\u001b[0m\u001b[1;33m=\u001b[0m\u001b[1;36m1\u001b[0m\u001b[1;33m)\u001b[0m\u001b[1;33m\u001b[0m\u001b[1;33m\u001b[0m\u001b[0m\n\u001b[0m\u001b[0;32m      4\u001b[0m     \u001b[0msoup\u001b[0m \u001b[1;33m=\u001b[0m \u001b[0mBeautifulSoup\u001b[0m\u001b[1;33m(\u001b[0m\u001b[0my\u001b[0m\u001b[1;33m.\u001b[0m\u001b[0mhtml\u001b[0m\u001b[1;33m.\u001b[0m\u001b[0mhtml\u001b[0m\u001b[1;33m,\u001b[0m \u001b[1;34m'html.parser'\u001b[0m\u001b[1;33m)\u001b[0m\u001b[1;33m\u001b[0m\u001b[1;33m\u001b[0m\u001b[0m\n\u001b[0;32m      5\u001b[0m     \u001b[1;32mreturn\u001b[0m \u001b[0msoup\u001b[0m\u001b[1;33m\u001b[0m\u001b[1;33m\u001b[0m\u001b[0m\n",
      "\u001b[1;31mAttributeError\u001b[0m: '_asyncio.Future' object has no attribute 'html'"
     ]
    }
   ],
   "source": [
    "def siguiente_pagina(soup): \n",
    "    # Se realiza la busqueda de las páginas que contienen el producto\n",
    "    pages = soup.find('ul', {'class': 'a-pagination'})\n",
    "    # Condicional para continuar la busqueda hasta que encuentre la página final\n",
    "    if not pages.find('li', {'class': 'a-disabled a-last'}):\n",
    "        url = 'https://www.amazon.com' + str(pages.find('li', {'class': 'a-last'}).find('a')['href'])\n",
    "        return url\n",
    "    else:\n",
    "        return\n",
    "i=0\n",
    "while i<20:\n",
    "    soup = datos(url)\n",
    "    descuentos(soup)\n",
    "    url = siguiente_pagina(soup)\n",
    "    i=i+1\n",
    "    if not url:\n",
    "        break\n",
    "    else:\n",
    "        print(url)"
   ]
  },
  {
   "source": [
    "Creamos una funcón para generar el dataframe"
   ],
   "cell_type": "markdown",
   "metadata": {}
  },
  {
   "cell_type": "code",
   "execution_count": null,
   "metadata": {},
   "outputs": [],
   "source": [
    "i=0\n",
    "while i<20:\n",
    "    soup = datos(url)\n",
    "    descuentos(soup)\n",
    "    url = siguiente_pagina(soup)\n",
    "    i=i+1\n",
    "    if not url:\n",
    "        break\n",
    "    else:\n",
    "        print(url)"
   ]
  },
  {
   "cell_type": "code",
   "execution_count": null,
   "metadata": {},
   "outputs": [],
   "source": [
    "df = pd.DataFrame(lista_de_descuentos)\n",
    "print(lista_de_descuentos)"
   ]
  },
  {
   "source": [
    "Se calcula el porcentaje de descuento del producto y se ordena de mayor a menor"
   ],
   "cell_type": "markdown",
   "metadata": {}
  },
  {
   "cell_type": "code",
   "execution_count": null,
   "metadata": {},
   "outputs": [],
   "source": [
    "#df['porcentaje_de_descuento'] = 100 - ((df.precio_actual / df.precio_sin_descuento) * 100)\n",
    "df['porcentaje_de_descuento'] = 0\n",
    "df = df.sort_values(by=['porcentaje_de_descuento'], ascending=False)"
   ]
  },
  {
   "source": [
    "Se crea el archivo csv a partir de la información obtenida y se emite un mensaje de finalización de la ejecución del programa"
   ],
   "cell_type": "markdown",
   "metadata": {}
  },
  {
   "cell_type": "code",
   "execution_count": null,
   "metadata": {},
   "outputs": [],
   "source": [
    "df.to_csv(buscar + 'descuentos_encontrados_giovanny333.csv', index=False)\n",
    "print('La busqueda de ' + buscar + ' ha finalizado')"
   ]
  }
 ]
}